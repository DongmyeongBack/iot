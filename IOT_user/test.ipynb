{
 "cells": [
  {
   "cell_type": "code",
   "execution_count": 1,
   "metadata": {},
   "outputs": [],
   "source": [
    "import os"
   ]
  },
  {
   "cell_type": "code",
   "execution_count": 2,
   "metadata": {},
   "outputs": [
    {
     "data": {
      "text/plain": [
       "0"
      ]
     },
     "execution_count": 2,
     "metadata": {},
     "output_type": "execute_result"
    }
   ],
   "source": [
    "os.system(\"netsh wlan show networks interface=Wi-Fi\")"
   ]
  },
  {
   "cell_type": "code",
   "execution_count": null,
   "metadata": {},
   "outputs": [],
   "source": [
    "# importing the subprocess module \n",
    "import subprocess \n",
    "  \n",
    "# using the check_output() for having the network term retrieval \n",
    "devices = subprocess.check_output(['netsh','wlan','show','network'], encoding=\"850\") \n",
    "  \n",
    "# decode it to strings \n",
    "print(devices)\n",
    "devices = devices.decode('ascii') \n",
    "devices= devices.replace(\"\\r\",\"\") \n",
    "  \n",
    "# displaying the information \n",
    "print(devices)"
   ]
  },
  {
   "cell_type": "code",
   "execution_count": 2,
   "metadata": {},
   "outputs": [],
   "source": [
    "import ezwifi\n",
    "import time\n",
    "w = ezwifi.Wifi()\n"
   ]
  },
  {
   "cell_type": "code",
   "execution_count": 16,
   "metadata": {},
   "outputs": [
    {
     "name": "stdout",
     "output_type": "stream",
     "text": [
      "Scanning WiFi\n"
     ]
    },
    {
     "ename": "KeyboardInterrupt",
     "evalue": "",
     "output_type": "error",
     "traceback": [
      "\u001b[1;31m---------------------------------------------------------------------------\u001b[0m",
      "\u001b[1;31mKeyboardInterrupt\u001b[0m                         Traceback (most recent call last)",
      "\u001b[1;32mc:\\Users\\백동명\\Desktop\\학부연구생\\IOT\\test.ipynb Cell 5\u001b[0m line \u001b[0;36m2\n\u001b[0;32m     <a href='vscode-notebook-cell:/c%3A/Users/%EB%B0%B1%EB%8F%99%EB%AA%85/Desktop/%ED%95%99%EB%B6%80%EC%97%B0%EA%B5%AC%EC%83%9D/IOT/test.ipynb#W5sZmlsZQ%3D%3D?line=17'>18</a>\u001b[0m         time\u001b[39m.\u001b[39msleep(\u001b[39m5\u001b[39m)\n\u001b[0;32m     <a href='vscode-notebook-cell:/c%3A/Users/%EB%B0%B1%EB%8F%99%EB%AA%85/Desktop/%ED%95%99%EB%B6%80%EC%97%B0%EA%B5%AC%EC%83%9D/IOT/test.ipynb#W5sZmlsZQ%3D%3D?line=18'>19</a>\u001b[0m         \u001b[39mprint\u001b[39m(\u001b[39m\"\u001b[39m\u001b[39mscan again\u001b[39m\u001b[39m\"\u001b[39m)\n\u001b[1;32m---> <a href='vscode-notebook-cell:/c%3A/Users/%EB%B0%B1%EB%8F%99%EB%AA%85/Desktop/%ED%95%99%EB%B6%80%EC%97%B0%EA%B5%AC%EC%83%9D/IOT/test.ipynb#W5sZmlsZQ%3D%3D?line=21'>22</a>\u001b[0m detect(\u001b[39m'\u001b[39;49m\u001b[39mKENTECH\u001b[39;49m\u001b[39m'\u001b[39;49m, \u001b[39m'\u001b[39;49m\u001b[39mkentech123456!\u001b[39;49m\u001b[39m'\u001b[39;49m)\n",
      "\u001b[1;32mc:\\Users\\백동명\\Desktop\\학부연구생\\IOT\\test.ipynb Cell 5\u001b[0m line \u001b[0;36m3\n\u001b[0;32m      <a href='vscode-notebook-cell:/c%3A/Users/%EB%B0%B1%EB%8F%99%EB%AA%85/Desktop/%ED%95%99%EB%B6%80%EC%97%B0%EA%B5%AC%EC%83%9D/IOT/test.ipynb#W5sZmlsZQ%3D%3D?line=0'>1</a>\u001b[0m \u001b[39mdef\u001b[39;00m \u001b[39mdetect\u001b[39m(ssidpart, password):\n\u001b[0;32m      <a href='vscode-notebook-cell:/c%3A/Users/%EB%B0%B1%EB%8F%99%EB%AA%85/Desktop/%ED%95%99%EB%B6%80%EC%97%B0%EA%B5%AC%EC%83%9D/IOT/test.ipynb#W5sZmlsZQ%3D%3D?line=1'>2</a>\u001b[0m     \u001b[39mwhile\u001b[39;00m \u001b[39mTrue\u001b[39;00m:\n\u001b[1;32m----> <a href='vscode-notebook-cell:/c%3A/Users/%EB%B0%B1%EB%8F%99%EB%AA%85/Desktop/%ED%95%99%EB%B6%80%EC%97%B0%EA%B5%AC%EC%83%9D/IOT/test.ipynb#W5sZmlsZQ%3D%3D?line=2'>3</a>\u001b[0m         w\u001b[39m.\u001b[39;49mscan()\n\u001b[0;32m      <a href='vscode-notebook-cell:/c%3A/Users/%EB%B0%B1%EB%8F%99%EB%AA%85/Desktop/%ED%95%99%EB%B6%80%EC%97%B0%EA%B5%AC%EC%83%9D/IOT/test.ipynb#W5sZmlsZQ%3D%3D?line=3'>4</a>\u001b[0m         wifiList \u001b[39m=\u001b[39m w\u001b[39m.\u001b[39mget_list()\n\u001b[0;32m      <a href='vscode-notebook-cell:/c%3A/Users/%EB%B0%B1%EB%8F%99%EB%AA%85/Desktop/%ED%95%99%EB%B6%80%EC%97%B0%EA%B5%AC%EC%83%9D/IOT/test.ipynb#W5sZmlsZQ%3D%3D?line=4'>5</a>\u001b[0m         \u001b[39mfor\u001b[39;00m wifi \u001b[39min\u001b[39;00m wifiList:\n",
      "File \u001b[1;32mc:\\Python311\\Lib\\site-packages\\ezwifi.py:101\u001b[0m, in \u001b[0;36mWifi.scan\u001b[1;34m(self, ssid)\u001b[0m\n\u001b[0;32m     99\u001b[0m \u001b[39mif\u001b[39;00m result \u001b[39m==\u001b[39m \u001b[39m0\u001b[39m:\n\u001b[0;32m    100\u001b[0m     \u001b[39mprint\u001b[39m(\u001b[39m\"\u001b[39m\u001b[39mScanning WiFi\u001b[39m\u001b[39m\"\u001b[39m)\n\u001b[1;32m--> 101\u001b[0m     eventCode \u001b[39m=\u001b[39m \u001b[39mself\u001b[39;49m\u001b[39m.\u001b[39;49mWifiSupporter\u001b[39m.\u001b[39;49mwait_for_event(\u001b[39m\"\u001b[39;49m\u001b[39mscan\u001b[39;49m\u001b[39m\"\u001b[39;49m)\n\u001b[0;32m    102\u001b[0m     \u001b[39mself\u001b[39m\u001b[39m.\u001b[39mrefresh_list()\n\u001b[0;32m    103\u001b[0m     \u001b[39mif\u001b[39;00m eventCode \u001b[39m==\u001b[39m \u001b[39mself\u001b[39m\u001b[39m.\u001b[39mWifiSupporter\u001b[39m.\u001b[39meventDict[\u001b[39m'\u001b[39m\u001b[39mscan\u001b[39m\u001b[39m'\u001b[39m][\u001b[39m0\u001b[39m]:\n",
      "File \u001b[1;32mc:\\Python311\\Lib\\site-packages\\ezwlan\\ezwlan.py:58\u001b[0m, in \u001b[0;36mWifiSupporter.wait_for_event\u001b[1;34m(self, eventCaller)\u001b[0m\n\u001b[0;32m     56\u001b[0m t \u001b[39m=\u001b[39m threading\u001b[39m.\u001b[39mTimer(\u001b[39m10\u001b[39m, \u001b[39mself\u001b[39m\u001b[39m.\u001b[39mtimeout)\n\u001b[0;32m     57\u001b[0m t\u001b[39m.\u001b[39mstart()\n\u001b[1;32m---> 58\u001b[0m \u001b[39mwhile\u001b[39;00m(\u001b[39mself\u001b[39m\u001b[39m.\u001b[39mevent \u001b[39mand\u001b[39;00m \u001b[39mself\u001b[39m\u001b[39m.\u001b[39mtimeout_flag):\n\u001b[0;32m     59\u001b[0m     \u001b[39mpass\u001b[39;00m\n\u001b[0;32m     60\u001b[0m unregisterNotification(handle)\n",
      "\u001b[1;31mKeyboardInterrupt\u001b[0m: "
     ]
    },
    {
     "name": "stdout",
     "output_type": "stream",
     "text": [
      "Timeout\n"
     ]
    }
   ],
   "source": [
    "def detect(ssidpart, password):\n",
    "    while True:\n",
    "        w.scan()\n",
    "        wifiList = w.get_list()\n",
    "        for wifi in wifiList:\n",
    "            quality = 0\n",
    "            print(wifi['ssid'])\n",
    "            if ssidpart in wifi['ssid']:\n",
    "                print(wifi)\n",
    "                if wifi['signal_quality'] > quality:\n",
    "                    ssid = wifi['ssid']\n",
    "            else:\n",
    "                print(wifi)\n",
    "        if quality>0:\n",
    "            w.connect(ssid, password)\n",
    "            return\n",
    "        \n",
    "        time.sleep(5)\n",
    "        print(\"scan again\")\n",
    "\n",
    "\n",
    "detect('KENTECH', 'kentech123456!')"
   ]
  },
  {
   "cell_type": "code",
   "execution_count": 13,
   "metadata": {},
   "outputs": [
    {
     "name": "stdout",
     "output_type": "stream",
     "text": [
      "Scanning WiFi\n",
      "Complete Scanning\n",
      "\n"
     ]
    }
   ],
   "source": [
    "w.scan()\n",
    "wifiList = w.get_list()"
   ]
  },
  {
   "cell_type": "code",
   "execution_count": 14,
   "metadata": {},
   "outputs": [
    {
     "data": {
      "text/plain": [
       "str"
      ]
     },
     "execution_count": 14,
     "metadata": {},
     "output_type": "execute_result"
    }
   ],
   "source": [
    "type(wifiList[0]['signal_quality'])\n",
    "type(wifiList[0]['ssid'])"
   ]
  },
  {
   "cell_type": "code",
   "execution_count": null,
   "metadata": {},
   "outputs": [],
   "source": []
  }
 ],
 "metadata": {
  "kernelspec": {
   "display_name": "Python 3",
   "language": "python",
   "name": "python3"
  },
  "language_info": {
   "codemirror_mode": {
    "name": "ipython",
    "version": 3
   },
   "file_extension": ".py",
   "mimetype": "text/x-python",
   "name": "python",
   "nbconvert_exporter": "python",
   "pygments_lexer": "ipython3",
   "version": "3.11.4"
  }
 },
 "nbformat": 4,
 "nbformat_minor": 2
}
